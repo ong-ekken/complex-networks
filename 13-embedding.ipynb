{
  "nbformat": 4,
  "nbformat_minor": 0,
  "metadata": {
    "colab": {
      "name": "Quiz13.ipynb",
      "provenance": [],
      "collapsed_sections": []
    },
    "kernelspec": {
      "name": "python3",
      "display_name": "Python 3"
    }
  },
  "cells": [
    {
      "cell_type": "code",
      "metadata": {
        "id": "V7f5Cl94J3yE",
        "colab_type": "code",
        "colab": {
          "base_uri": "https://localhost:8080/",
          "height": 265
        },
        "outputId": "235afada-9ebf-4c29-e077-5aed750b0ee6"
      },
      "source": [
        "# embedding of Zachary's karate club network\n",
        "import numpy as np\n",
        "import networkx as nx\n",
        "import pandas as pd\n",
        "import matplotlib.pyplot as plt\n",
        "import random\n",
        "from gensim.models import Word2Vec as word2vec\n",
        "\n",
        "def make_random_walks(G, num_of_walk, length_of_walk):\n",
        "  walks = list()\n",
        "  for i in range(num_of_walk):\n",
        "    node_list = list(G.nodes())\n",
        "    for node in node_list:\n",
        "      current_node = node\n",
        "      walk = list()\n",
        "      walk.append(str(node))\n",
        "      for j in range(length_of_walk):\n",
        "        next_node = random.choice(list(G.neighbors(current_node)))\n",
        "        walk.append(str(next_node))\n",
        "        current_node = node\n",
        "      walks.append(walk)\n",
        "  return walks\n",
        "\n",
        "G = nx.karate_club_graph()\n",
        "walks = make_random_walks(G, 100, 20)\n",
        "model = word2vec(walks, min_count=0, size=2, window=5, workers=1)\n",
        "\n",
        "x = list()\n",
        "y = list()\n",
        "node_list = list()\n",
        "colors = list()\n",
        "fig, ax = plt.subplots()\n",
        "for node in G.nodes():\n",
        "  vector = model.wv[str(node)]\n",
        "  x.append(vector[0])\n",
        "  y.append(vector[1])\n",
        "  ax.annotate(str(node), (vector[0], vector[1]))\n",
        "  if G.nodes[node][\"club\"] == \"Officer\":\n",
        "    colors.append(\"r\")\n",
        "  else:\n",
        "    colors.append(\"b\")\n",
        "for i in range(len(x)):\n",
        "  ax.scatter(x[i], y[i], c=colors[i])\n",
        "plt.show()"
      ],
      "execution_count": 1,
      "outputs": [
        {
          "output_type": "display_data",
          "data": {
            "image/png": "[encoded data removed]",
            "text/plain": [
              "<Figure size 432x288 with 1 Axes>"
            ]
          },
          "metadata": {
            "tags": []
          }
        }
      ]
    },
    {
      "cell_type": "code",
      "metadata": {
        "id": "NYeHUoDhJc-R",
        "colab_type": "code",
        "colab": {
          "base_uri": "https://localhost:8080/",
          "height": 265
        },
        "outputId": "d9685563-61b0-4c54-aefe-0b964d31af96"
      },
      "source": [
        "model3 = word2vec(walks, min_count=0, size=3, window=5, workers=1)\n",
        "\n",
        "x3 = list()\n",
        "y3 = list()\n",
        "node_list3 = list()\n",
        "colors3 = list()\n",
        "fig3, ax3 = plt.subplots()\n",
        "for node in G.nodes():\n",
        "  vector3 = model3.wv[str(node)]\n",
        "  x3.append(vector3[0])\n",
        "  y3.append(vector3[1])\n",
        "  ax3.annotate(str(node), (vector3[0], vector3[1]))\n",
        "  if G.nodes[node][\"club\"] == \"Officer\":\n",
        "    colors3.append(\"r\")\n",
        "  else:\n",
        "    colors3.append(\"b\")\n",
        "for i in range(len(x3)):\n",
        "  ax3.scatter(x3[i], y3[i], c=colors3[i])\n",
        "plt.show()"
      ],
      "execution_count": 2,
      "outputs": [
        {
          "output_type": "display_data",
          "data": {
            "image/png": "[encoded data removed]",
            "text/plain": [
              "<Figure size 432x288 with 1 Axes>"
            ]
          },
          "metadata": {
            "tags": []
          }
        }
      ]
    },
    {
      "cell_type": "code",
      "metadata": {
        "id": "Iij-SIn7J6vS",
        "colab_type": "code",
        "colab": {
          "base_uri": "https://localhost:8080/",
          "height": 265
        },
        "outputId": "a6a475a2-3069-4a5d-947e-1ee9f021e482"
      },
      "source": [
        "model4 = word2vec(walks, min_count=0, size=4, window=5, workers=1)\n",
        "\n",
        "x4 = list()\n",
        "y4 = list()\n",
        "node_list4 = list()\n",
        "colors4 = list()\n",
        "fig4, ax4 = plt.subplots()\n",
        "for node in G.nodes():\n",
        "  vector4 = model4.wv[str(node)]\n",
        "  x4.append(vector4[0])\n",
        "  y4.append(vector4[1])\n",
        "  ax4.annotate(str(node), (vector4[0], vector4[1]))\n",
        "  if G.nodes[node][\"club\"] == \"Officer\":\n",
        "    colors4.append(\"r\")\n",
        "  else:\n",
        "    colors4.append(\"b\")\n",
        "for i in range(len(x4)):\n",
        "  ax4.scatter(x4[i], y4[i], c=colors4[i])\n",
        "plt.show()"
      ],
      "execution_count": 3,
      "outputs": [
        {
          "output_type": "display_data",
          "data": {
            "image/png": "[encoded data removed]",
            "text/plain": [
              "<Figure size 432x288 with 1 Axes>"
            ]
          },
          "metadata": {
            "tags": []
          }
        }
      ]
    },
    {
      "cell_type": "code",
      "metadata": {
        "id": "lrlRJFcPKkiP",
        "colab_type": "code",
        "colab": {
          "base_uri": "https://localhost:8080/",
          "height": 265
        },
        "outputId": "d5730c44-4d18-46e8-f1bd-9c5206060db8"
      },
      "source": [
        "model5 = word2vec(walks, min_count=0, size=5, window=5, workers=1)\n",
        "\n",
        "x5 = list()\n",
        "y5 = list()\n",
        "node_list5 = list()\n",
        "colors5 = list()\n",
        "fig5, ax5 = plt.subplots()\n",
        "for node in G.nodes():\n",
        "  vector5 = model5.wv[str(node)]\n",
        "  x5.append(vector5[0])\n",
        "  y5.append(vector5[1])\n",
        "  ax5.annotate(str(node), (vector5[0], vector5[1]))\n",
        "  if G.nodes[node][\"club\"] == \"Officer\":\n",
        "    colors5.append(\"r\")\n",
        "  else:\n",
        "    colors5.append(\"b\")\n",
        "for i in range(len(x5)):\n",
        "  ax5.scatter(x5[i], y5[i], c=colors5[i])\n",
        "plt.show()"
      ],
      "execution_count": 4,
      "outputs": [
        {
          "output_type": "display_data",
          "data": {
            "image/png": "[encoded data removed]",
            "text/plain": [
              "<Figure size 432x288 with 1 Axes>"
            ]
          },
          "metadata": {
            "tags": []
          }
        }
      ]
    },
    {
      "cell_type": "markdown",
      "metadata": {
        "id": "ijZBDW0QQxzo",
        "colab_type": "text"
      },
      "source": [
        "**Ultimately, we see that model size=2 gives the best defined pattern**"
      ]
    },
    {
      "cell_type": "code",
      "metadata": {
        "id": "vh9HuTLaWnsP",
        "colab_type": "code",
        "colab": {}
      },
      "source": [
        "vectors = []\n",
        "\n",
        "for node in G.nodes():\n",
        "  vectors.append(model.wv[str(node)])\n",
        "  \n",
        "result = {}\n",
        "total_count = nx.number_of_nodes(G)\n",
        "for m in range(total_count):\n",
        "  for n in range(m+1, total_count):\n",
        "    if G.has_edge(m, n) == False:\n",
        "      result[(m, n)] = np.linalg.norm(vectors[m]-vectors[n])"
      ],
      "execution_count": 0,
      "outputs": []
    },
    {
      "cell_type": "markdown",
      "metadata": {
        "id": "xXcddqvrGAuD",
        "colab_type": "text"
      },
      "source": [
        "**Prediction Top 5**"
      ]
    },
    {
      "cell_type": "code",
      "metadata": {
        "id": "RXRt3An5wubE",
        "colab_type": "code",
        "colab": {
          "base_uri": "https://localhost:8080/",
          "height": 204
        },
        "outputId": "ad10f3ba-7b2c-44fe-90fd-26cbcd876032"
      },
      "source": [
        "pd.DataFrame(result.items(), columns=[\"Pairs\", \"Predict\"]).sort_values(by=\"Predict\", ascending=False).head(5)"
      ],
      "execution_count": 8,
      "outputs": [
        {
          "output_type": "execute_result",
          "data": {
            "text/html": [
              "<div>\n",
              "<style scoped>\n",
              "    .dataframe tbody tr th:only-of-type {\n",
              "        vertical-align: middle;\n",
              "    }\n",
              "\n",
              "    .dataframe tbody tr th {\n",
              "        vertical-align: top;\n",
              "    }\n",
              "\n",
              "    .dataframe thead th {\n",
              "        text-align: right;\n",
              "    }\n",
              "</style>\n",
              "<table border=\"1\" class=\"dataframe\">\n",
              "  <thead>\n",
              "    <tr style=\"text-align: right;\">\n",
              "      <th></th>\n",
              "      <th>Pairs</th>\n",
              "      <th>Predict</th>\n",
              "    </tr>\n",
              "  </thead>\n",
              "  <tbody>\n",
              "    <tr>\n",
              "      <th>138</th>\n",
              "      <td>(5, 29)</td>\n",
              "      <td>9.787454</td>\n",
              "    </tr>\n",
              "    <tr>\n",
              "      <th>164</th>\n",
              "      <td>(6, 29)</td>\n",
              "      <td>9.786609</td>\n",
              "    </tr>\n",
              "    <tr>\n",
              "      <th>370</th>\n",
              "      <td>(16, 29)</td>\n",
              "      <td>9.377042</td>\n",
              "    </tr>\n",
              "    <tr>\n",
              "      <th>161</th>\n",
              "      <td>(6, 26)</td>\n",
              "      <td>9.187716</td>\n",
              "    </tr>\n",
              "    <tr>\n",
              "      <th>135</th>\n",
              "      <td>(5, 26)</td>\n",
              "      <td>9.181348</td>\n",
              "    </tr>\n",
              "  </tbody>\n",
              "</table>\n",
              "</div>"
            ],
            "text/plain": [
              "        Pairs   Predict\n",
              "138   (5, 29)  9.787454\n",
              "164   (6, 29)  9.786609\n",
              "370  (16, 29)  9.377042\n",
              "161   (6, 26)  9.187716\n",
              "135   (5, 26)  9.181348"
            ]
          },
          "metadata": {
            "tags": []
          },
          "execution_count": 8
        }
      ]
    }
  ]
}