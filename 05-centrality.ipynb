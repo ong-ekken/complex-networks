{
 "cells": [
  {
   "cell_type": "markdown",
   "metadata": {},
   "source": [
    "# 19M18850 Ong Yuh Chian"
   ]
  },
  {
   "cell_type": "markdown",
   "metadata": {},
   "source": [
    "## Make a program of computing (i) and (ii) of the following centralities (1-6). \n",
    "\n",
    "### Show the code and its outputs."
   ]
  },
  {
   "cell_type": "code",
   "execution_count": 41,
   "metadata": {},
   "outputs": [],
   "source": [
    "# To remove MatplotlibDeprecationWarning: The iterable function was deprecated in Matplotlib 3.1 and will be removed in 3.3. Use np.iterable instead.\n",
    "# if not cb.iterable(width):\n",
    "import warnings\n",
    "warnings.filterwarnings(\"ignore\", category=UserWarning)"
   ]
  },
  {
   "cell_type": "code",
   "execution_count": 42,
   "metadata": {
    "colab": {
     "base_uri": "https://localhost:8080/",
     "height": 408
    },
    "colab_type": "code",
    "id": "WJ7ozc5jCknH",
    "outputId": "93b1f27b-c2e4-4d5c-8c8a-66669358f079"
   },
   "outputs": [
    {
     "name": "stdout",
     "output_type": "stream",
     "text": [
      "     degree centrality: 0.10, 0.10, 0.40, 0.30, 0.20, 0.20, 0.30, 0.30, 0.30, 0.10, 0.10 biggest: 2\n"
     ]
    },
    {
     "data": {
      "image/png": "[encoded data removed]",
      "text/plain": [
       "<Figure size 360x360 with 1 Axes>"
      ]
     },
     "metadata": {},
     "output_type": "display_data"
    }
   ],
   "source": [
    "import networkx as nx\n",
    "import matplotlib.pyplot as plt\n",
    "import numpy as np\n",
    "import pandas as pd\n",
    "#import pprint\n",
    "\n",
    "G = nx.Graph()\n",
    "G.add_nodes_from(range(0,10))\n",
    "G.add_edges_from([(0,2),(1,2),(2,3),(2,4),(3,5),(3,6),(4,6),(5,7),(6,7),(7,8),(8,9),(8,10)])\n",
    "plt.figure(figsize=(5, 5))\n",
    "nx.draw_spring(G, node_size=400, node_color='red', with_labels=True, font_weight='bold')\n",
    "#A = nx.adjacency_matrix(G).todense()\n",
    "#A = np.array(A, dtype = np.float64)\n",
    "#print(\"degree centrality:\",list(nx.degree_centrality(G).values()))\n",
    "v = list(nx.degree_centrality(G).values())\n",
    "s = (\"     degree centrality: \"+', '.join(['%.2f']*len(v))) % tuple(v)\n",
    "print(s, \"biggest:\", np.argmax(v))"
   ]
  },
  {
   "cell_type": "markdown",
   "metadata": {},
   "source": [
    "## (i) centrality values of all nodes in the right graph"
   ]
  },
  {
   "cell_type": "code",
   "execution_count": 43,
   "metadata": {},
   "outputs": [
    {
     "data": {
      "text/html": [
       "<style  type=\"text/css\" >\n",
       "    #T_53136d00_2719_11ea_bbcf_98fe943d2046row2_col0 {\n",
       "            background-color:  yellow;\n",
       "        }    #T_53136d00_2719_11ea_bbcf_98fe943d2046row2_col4 {\n",
       "            background-color:  yellow;\n",
       "        }    #T_53136d00_2719_11ea_bbcf_98fe943d2046row2_col5 {\n",
       "            background-color:  yellow;\n",
       "        }    #T_53136d00_2719_11ea_bbcf_98fe943d2046row3_col3 {\n",
       "            background-color:  yellow;\n",
       "        }    #T_53136d00_2719_11ea_bbcf_98fe943d2046row6_col2 {\n",
       "            background-color:  yellow;\n",
       "        }    #T_53136d00_2719_11ea_bbcf_98fe943d2046row7_col1 {\n",
       "            background-color:  yellow;\n",
       "        }</style><table id=\"T_53136d00_2719_11ea_bbcf_98fe943d2046\" ><thead>    <tr>        <th class=\"blank level0\" ></th>        <th class=\"col_heading level0 col0\" >Degree</th>        <th class=\"col_heading level0 col1\" >Betweeness</th>        <th class=\"col_heading level0 col2\" >Closeness</th>        <th class=\"col_heading level0 col3\" >Eigenvector</th>        <th class=\"col_heading level0 col4\" >PageRank</th>        <th class=\"col_heading level0 col5\" >Katz</th>    </tr></thead><tbody>\n",
       "                <tr>\n",
       "                        <th id=\"T_53136d00_2719_11ea_bbcf_98fe943d2046level0_row0\" class=\"row_heading level0 row0\" >0</th>\n",
       "                        <td id=\"T_53136d00_2719_11ea_bbcf_98fe943d2046row0_col0\" class=\"data row0 col0\" >0.1</td>\n",
       "                        <td id=\"T_53136d00_2719_11ea_bbcf_98fe943d2046row0_col1\" class=\"data row0 col1\" >0</td>\n",
       "                        <td id=\"T_53136d00_2719_11ea_bbcf_98fe943d2046row0_col2\" class=\"data row0 col2\" >0.294118</td>\n",
       "                        <td id=\"T_53136d00_2719_11ea_bbcf_98fe943d2046row0_col3\" class=\"data row0 col3\" >0.161187</td>\n",
       "                        <td id=\"T_53136d00_2719_11ea_bbcf_98fe943d2046row0_col4\" class=\"data row0 col4\" >0.0478995</td>\n",
       "                        <td id=\"T_53136d00_2719_11ea_bbcf_98fe943d2046row0_col5\" class=\"data row0 col5\" >0.266298</td>\n",
       "            </tr>\n",
       "            <tr>\n",
       "                        <th id=\"T_53136d00_2719_11ea_bbcf_98fe943d2046level0_row1\" class=\"row_heading level0 row1\" >1</th>\n",
       "                        <td id=\"T_53136d00_2719_11ea_bbcf_98fe943d2046row1_col0\" class=\"data row1 col0\" >0.1</td>\n",
       "                        <td id=\"T_53136d00_2719_11ea_bbcf_98fe943d2046row1_col1\" class=\"data row1 col1\" >0</td>\n",
       "                        <td id=\"T_53136d00_2719_11ea_bbcf_98fe943d2046row1_col2\" class=\"data row1 col2\" >0.294118</td>\n",
       "                        <td id=\"T_53136d00_2719_11ea_bbcf_98fe943d2046row1_col3\" class=\"data row1 col3\" >0.161187</td>\n",
       "                        <td id=\"T_53136d00_2719_11ea_bbcf_98fe943d2046row1_col4\" class=\"data row1 col4\" >0.0478995</td>\n",
       "                        <td id=\"T_53136d00_2719_11ea_bbcf_98fe943d2046row1_col5\" class=\"data row1 col5\" >0.266298</td>\n",
       "            </tr>\n",
       "            <tr>\n",
       "                        <th id=\"T_53136d00_2719_11ea_bbcf_98fe943d2046level0_row2\" class=\"row_heading level0 row2\" >2</th>\n",
       "                        <td id=\"T_53136d00_2719_11ea_bbcf_98fe943d2046row2_col0\" class=\"data row2 col0\" >0.4</td>\n",
       "                        <td id=\"T_53136d00_2719_11ea_bbcf_98fe943d2046row2_col1\" class=\"data row2 col1\" >0.396296</td>\n",
       "                        <td id=\"T_53136d00_2719_11ea_bbcf_98fe943d2046row2_col2\" class=\"data row2 col2\" >0.4</td>\n",
       "                        <td id=\"T_53136d00_2719_11ea_bbcf_98fe943d2046row2_col3\" class=\"data row2 col3\" >0.420476</td>\n",
       "                        <td id=\"T_53136d00_2719_11ea_bbcf_98fe943d2046row2_col4\" class=\"data row2 col4\" >0.16124</td>\n",
       "                        <td id=\"T_53136d00_2719_11ea_bbcf_98fe943d2046row2_col5\" class=\"data row2 col5\" >0.347568</td>\n",
       "            </tr>\n",
       "            <tr>\n",
       "                        <th id=\"T_53136d00_2719_11ea_bbcf_98fe943d2046level0_row3\" class=\"row_heading level0 row3\" >3</th>\n",
       "                        <td id=\"T_53136d00_2719_11ea_bbcf_98fe943d2046row3_col0\" class=\"data row3 col0\" >0.3</td>\n",
       "                        <td id=\"T_53136d00_2719_11ea_bbcf_98fe943d2046row3_col1\" class=\"data row3 col1\" >0.303704</td>\n",
       "                        <td id=\"T_53136d00_2719_11ea_bbcf_98fe943d2046row3_col2\" class=\"data row3 col2\" >0.454545</td>\n",
       "                        <td id=\"T_53136d00_2719_11ea_bbcf_98fe943d2046row3_col3\" class=\"data row3 col3\" >0.446529</td>\n",
       "                        <td id=\"T_53136d00_2719_11ea_bbcf_98fe943d2046row3_col4\" class=\"data row3 col4\" >0.11361</td>\n",
       "                        <td id=\"T_53136d00_2719_11ea_bbcf_98fe943d2046row3_col5\" class=\"data row3 col5\" >0.328682</td>\n",
       "            </tr>\n",
       "            <tr>\n",
       "                        <th id=\"T_53136d00_2719_11ea_bbcf_98fe943d2046level0_row4\" class=\"row_heading level0 row4\" >4</th>\n",
       "                        <td id=\"T_53136d00_2719_11ea_bbcf_98fe943d2046row4_col0\" class=\"data row4 col0\" >0.2</td>\n",
       "                        <td id=\"T_53136d00_2719_11ea_bbcf_98fe943d2046row4_col1\" class=\"data row4 col1\" >0.122222</td>\n",
       "                        <td id=\"T_53136d00_2719_11ea_bbcf_98fe943d2046row4_col2\" class=\"data row4 col2\" >0.416667</td>\n",
       "                        <td id=\"T_53136d00_2719_11ea_bbcf_98fe943d2046row4_col3\" class=\"data row4 col3\" >0.327955</td>\n",
       "                        <td id=\"T_53136d00_2719_11ea_bbcf_98fe943d2046row4_col4\" class=\"data row4 col4\" >0.0799609</td>\n",
       "                        <td id=\"T_53136d00_2719_11ea_bbcf_98fe943d2046row4_col5\" class=\"data row4 col5\" >0.298985</td>\n",
       "            </tr>\n",
       "            <tr>\n",
       "                        <th id=\"T_53136d00_2719_11ea_bbcf_98fe943d2046level0_row5\" class=\"row_heading level0 row5\" >5</th>\n",
       "                        <td id=\"T_53136d00_2719_11ea_bbcf_98fe943d2046row5_col0\" class=\"data row5 col0\" >0.2</td>\n",
       "                        <td id=\"T_53136d00_2719_11ea_bbcf_98fe943d2046row5_col1\" class=\"data row5 col1\" >0.133333</td>\n",
       "                        <td id=\"T_53136d00_2719_11ea_bbcf_98fe943d2046row5_col2\" class=\"data row5 col2\" >0.434783</td>\n",
       "                        <td id=\"T_53136d00_2719_11ea_bbcf_98fe943d2046row5_col3\" class=\"data row5 col3\" >0.309311</td>\n",
       "                        <td id=\"T_53136d00_2719_11ea_bbcf_98fe943d2046row5_col4\" class=\"data row5 col4\" >0.0791755</td>\n",
       "                        <td id=\"T_53136d00_2719_11ea_bbcf_98fe943d2046row5_col5\" class=\"data row5 col5\" >0.29697</td>\n",
       "            </tr>\n",
       "            <tr>\n",
       "                        <th id=\"T_53136d00_2719_11ea_bbcf_98fe943d2046level0_row6\" class=\"row_heading level0 row6\" >6</th>\n",
       "                        <td id=\"T_53136d00_2719_11ea_bbcf_98fe943d2046row6_col0\" class=\"data row6 col0\" >0.3</td>\n",
       "                        <td id=\"T_53136d00_2719_11ea_bbcf_98fe943d2046row6_col1\" class=\"data row6 col1\" >0.337037</td>\n",
       "                        <td id=\"T_53136d00_2719_11ea_bbcf_98fe943d2046row6_col2\" class=\"data row6 col2\" >0.47619</td>\n",
       "                        <td id=\"T_53136d00_2719_11ea_bbcf_98fe943d2046row6_col3\" class=\"data row6 col3\" >0.435032</td>\n",
       "                        <td id=\"T_53136d00_2719_11ea_bbcf_98fe943d2046row6_col4\" class=\"data row6 col4\" >0.113159</td>\n",
       "                        <td id=\"T_53136d00_2719_11ea_bbcf_98fe943d2046row6_col5\" class=\"data row6 col5\" >0.326868</td>\n",
       "            </tr>\n",
       "            <tr>\n",
       "                        <th id=\"T_53136d00_2719_11ea_bbcf_98fe943d2046level0_row7\" class=\"row_heading level0 row7\" >7</th>\n",
       "                        <td id=\"T_53136d00_2719_11ea_bbcf_98fe943d2046row7_col0\" class=\"data row7 col0\" >0.3</td>\n",
       "                        <td id=\"T_53136d00_2719_11ea_bbcf_98fe943d2046row7_col1\" class=\"data row7 col1\" >0.485185</td>\n",
       "                        <td id=\"T_53136d00_2719_11ea_bbcf_98fe943d2046row7_col2\" class=\"data row7 col2\" >0.454545</td>\n",
       "                        <td id=\"T_53136d00_2719_11ea_bbcf_98fe943d2046row7_col3\" class=\"data row7 col3\" >0.36034</td>\n",
       "                        <td id=\"T_53136d00_2719_11ea_bbcf_98fe943d2046row7_col4\" class=\"data row7 col4\" >0.117702</td>\n",
       "                        <td id=\"T_53136d00_2719_11ea_bbcf_98fe943d2046row7_col5\" class=\"data row7 col5\" >0.3256</td>\n",
       "            </tr>\n",
       "            <tr>\n",
       "                        <th id=\"T_53136d00_2719_11ea_bbcf_98fe943d2046level0_row8\" class=\"row_heading level0 row8\" >8</th>\n",
       "                        <td id=\"T_53136d00_2719_11ea_bbcf_98fe943d2046row8_col0\" class=\"data row8 col0\" >0.3</td>\n",
       "                        <td id=\"T_53136d00_2719_11ea_bbcf_98fe943d2046row8_col1\" class=\"data row8 col1\" >0.377778</td>\n",
       "                        <td id=\"T_53136d00_2719_11ea_bbcf_98fe943d2046row8_col2\" class=\"data row8 col2\" >0.37037</td>\n",
       "                        <td id=\"T_53136d00_2719_11ea_bbcf_98fe943d2046row8_col3\" class=\"data row8 col3\" >0.195638</td>\n",
       "                        <td id=\"T_53136d00_2719_11ea_bbcf_98fe943d2046row8_col4\" class=\"data row8 col4\" >0.135371</td>\n",
       "                        <td id=\"T_53136d00_2719_11ea_bbcf_98fe943d2046row8_col5\" class=\"data row8 col5\" >0.316745</td>\n",
       "            </tr>\n",
       "            <tr>\n",
       "                        <th id=\"T_53136d00_2719_11ea_bbcf_98fe943d2046level0_row9\" class=\"row_heading level0 row9\" >9</th>\n",
       "                        <td id=\"T_53136d00_2719_11ea_bbcf_98fe943d2046row9_col0\" class=\"data row9 col0\" >0.1</td>\n",
       "                        <td id=\"T_53136d00_2719_11ea_bbcf_98fe943d2046row9_col1\" class=\"data row9 col1\" >0</td>\n",
       "                        <td id=\"T_53136d00_2719_11ea_bbcf_98fe943d2046row9_col2\" class=\"data row9 col2\" >0.277778</td>\n",
       "                        <td id=\"T_53136d00_2719_11ea_bbcf_98fe943d2046row9_col3\" class=\"data row9 col3\" >0.0749984</td>\n",
       "                        <td id=\"T_53136d00_2719_11ea_bbcf_98fe943d2046row9_col4\" class=\"data row9 col4\" >0.0519912</td>\n",
       "                        <td id=\"T_53136d00_2719_11ea_bbcf_98fe943d2046row9_col5\" class=\"data row9 col5\" >0.263216</td>\n",
       "            </tr>\n",
       "            <tr>\n",
       "                        <th id=\"T_53136d00_2719_11ea_bbcf_98fe943d2046level0_row10\" class=\"row_heading level0 row10\" >10</th>\n",
       "                        <td id=\"T_53136d00_2719_11ea_bbcf_98fe943d2046row10_col0\" class=\"data row10 col0\" >0.1</td>\n",
       "                        <td id=\"T_53136d00_2719_11ea_bbcf_98fe943d2046row10_col1\" class=\"data row10 col1\" >0</td>\n",
       "                        <td id=\"T_53136d00_2719_11ea_bbcf_98fe943d2046row10_col2\" class=\"data row10 col2\" >0.277778</td>\n",
       "                        <td id=\"T_53136d00_2719_11ea_bbcf_98fe943d2046row10_col3\" class=\"data row10 col3\" >0.0749984</td>\n",
       "                        <td id=\"T_53136d00_2719_11ea_bbcf_98fe943d2046row10_col4\" class=\"data row10 col4\" >0.0519912</td>\n",
       "                        <td id=\"T_53136d00_2719_11ea_bbcf_98fe943d2046row10_col5\" class=\"data row10 col5\" >0.263216</td>\n",
       "            </tr>\n",
       "    </tbody></table>"
      ],
      "text/plain": [
       "<pandas.io.formats.style.Styler at 0xa1fca7bd0>"
      ]
     },
     "execution_count": 43,
     "metadata": {},
     "output_type": "execute_result"
    }
   ],
   "source": [
    "cd = nx.degree_centrality(G).values()\n",
    "cb = nx.betweenness_centrality(G).values()\n",
    "cc = nx.closeness_centrality(G).values()\n",
    "ce = nx.eigenvector_centrality(G).values()\n",
    "cp = nx.pagerank(G).values()\n",
    "ck = nx.katz_centrality(G).values()\n",
    "\n",
    "df = pd.DataFrame(list(zip(cd, cb, cc, ce, cp, ck)))\n",
    "df.columns = ['Degree', 'Betweeness', 'Closeness', 'Eigenvector', 'PageRank', 'Katz']\n",
    "\n",
    "def highlight_max(c):    \n",
    "    is_max = c == c.max()\n",
    "    return ['background-color: yellow' if c_max else '' for c_max in is_max]\n",
    " \n",
    "df.style.apply(highlight_max)"
   ]
  },
  {
   "cell_type": "markdown",
   "metadata": {},
   "source": [
    "## (ii) the most central node\n",
    "\n",
    "#### Please see attached image file for highlighting of max values of respective centrality measures. (Highlighting does not show up on GitHub)\n",
    "\n",
    "Question | Centrality Type | Most Central \n",
    ":---: | :---: | :---:\n",
    "1 | Degree | Node 2\n",
    "2 | Betweenness | Node 7\n",
    "3 | Closeness | Node 6\n",
    "4 | Eigenvector | Node 3\n",
    "5 | PageRank | Node 2\n",
    "6 | Katz | Node 2"
   ]
  }
 ],
 "metadata": {
  "colab": {
   "name": "centrality.ipynb",
   "provenance": []
  },
  "kernelspec": {
   "display_name": "Python 3",
   "language": "python",
   "name": "python3"
  },
  "language_info": {
   "codemirror_mode": {
    "name": "ipython",
    "version": 3
   },
   "file_extension": ".py",
   "mimetype": "text/x-python",
   "name": "python",
   "nbconvert_exporter": "python",
   "pygments_lexer": "ipython3",
   "version": "3.7.4"
  }
 },
 "nbformat": 4,
 "nbformat_minor": 1
}
